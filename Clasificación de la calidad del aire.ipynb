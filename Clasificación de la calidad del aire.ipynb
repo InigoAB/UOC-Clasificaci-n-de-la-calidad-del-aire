{
 "cells": [
  {
   "cell_type": "markdown",
   "id": "367dea2e",
   "metadata": {},
   "source": [
    "<div style=\"width: 100%; clear: both;\">\n",
    "<div style=\"float: left; width: 50%;\">\n",
    "<img src=\"http://www.uoc.edu/portal/_resources/common/imatges/marca_UOC/UOC_Masterbrand.jpg\", align=\"left\">\n",
    "</div>\n",
    "<div style=\"float: right; width: 50%;\">\n",
    "<p style=\"margin: 0; padding-top: 22px; text-align:right;\">Hackathon de la II Feria de Empleo - UOC</p>\n",
    "<p style=\"margin: 0; text-align:right; padding-button: 100px;\">Clasificación de la calidad del aire</p>\n",
    "</div>\n",
    "</div>\n",
    "<div style=\"width:100%;\">&nbsp;</div>"
   ]
  },
  {
   "cell_type": "markdown",
   "id": "f61af95e",
   "metadata": {},
   "source": [
    "---\n",
    "<div style=\"background-color: #EDF7FF; border-color: #7C9DBF; border-left: 5px solid #7C9DBF; padding: 0.5em;\">\n",
    "Nombre y apellidos: <strong>Iñigo Alvarez Bianchi</strong>\n",
    "</div>\n",
    "\n",
    "---"
   ]
  },
  {
   "cell_type": "markdown",
   "id": "52a8c98c",
   "metadata": {},
   "source": [
    "# Clasificación de la calidad del aire\n",
    "\n",
    "## Reto a desarrollar\n",
    "\n",
    "El Acuerdo de París es un tratado internacional sobre el cambio climático que fue adoptado por 196 Partes en la COP21 de París. Su objetivo es limitar el calentamiento mundial muy por debajo de 2, preferiblemente a 1,5 grados centígrados, en comparación con los niveles preindustriales.\n",
    "\n",
    "Para alcanzar este objetivo de temperatura a largo plazo, los países se proponen alcanzar el máximo de las emisiones de gases de efecto invernadero lo antes posible para lograr un planeta con clima neutro para mediados de siglo.\n",
    "\n",
    "Es por ello que la Unión Europea esta destinando grandes cantidades de recursos al desarrollo de nuevas tecnologías que permitan la mejorar la lucha contra la contaminación. Una de estas es un nuevo tipo de sensor basado en tecnología láser que permita detectar la calidad del aire en función de diferentes mediciones."
   ]
  },
  {
   "cell_type": "markdown",
   "id": "6aef99ee",
   "metadata": {},
   "source": [
    "## Datasets\n",
    "\n",
    "- Variables del dataset:\n",
    "\n",
    "\n",
    "    - Features: El dataset contiene 8 features en 8 columnas que son los parámetros medidos por los diferentes sensores. Estos corresponden a las diferentes interacciones que han tenido los haces de los láseres al travesar las partículas del aire.\n",
    "\n",
    "    - Target: El target corresponde al 'label' que clasifica la calidad del aire.\n",
    "\n",
    "        - Target 0 corresponde a una calidad del aire Buena\n",
    "        - Target 1 corresponde a una calidad del aire Moderada\n",
    "        - Target 2 corresponde a una calidad del aire Peligrosa\n",
    "        \n",
    "\n",
    "\n",
    "- Archivos:\n",
    "\n",
    "    - uoc_train.csv: Este dataset contiene tanto las variables predictoras como el tipo de clasificación de calidad del aire.\n",
    "\n",
    "    - uoc_test_X.csv: Este dataset contiene las variables predictoras con las que se tendrá que predecir el tipo de calidad de aire."
   ]
  },
  {
   "cell_type": "markdown",
   "id": "30d63ac8",
   "metadata": {},
   "source": [
    "## Objetivo\n",
    "El objetivo del reto será realizar un modelo predictivo basado en Random Forests que permita conocer el tipo de calidad del aire en función de las mediciones de los sensores."
   ]
  },
  {
   "cell_type": "markdown",
   "id": "fc49b550",
   "metadata": {},
   "source": [
    "## Carga de librerías"
   ]
  },
  {
   "cell_type": "code",
   "execution_count": 1,
   "id": "9fb561da",
   "metadata": {},
   "outputs": [],
   "source": [
    "import numpy as np \n",
    "import pandas as pd\n",
    "import seaborn as sns\n",
    "import matplotlib.pyplot as plt\n",
    "\n",
    "from sklearn.ensemble import RandomForestClassifier\n",
    "from sklearn.model_selection import train_test_split, GridSearchCV\n",
    "from sklearn.metrics import accuracy_score, confusion_matrix\n"
   ]
  },
  {
   "cell_type": "markdown",
   "id": "19f47681",
   "metadata": {},
   "source": [
    "## Carga de los datos y análisis exploratorio preliminar"
   ]
  },
  {
   "cell_type": "code",
   "execution_count": 2,
   "id": "72aaba12",
   "metadata": {},
   "outputs": [
    {
     "data": {
      "text/html": [
       "<div>\n",
       "<style scoped>\n",
       "    .dataframe tbody tr th:only-of-type {\n",
       "        vertical-align: middle;\n",
       "    }\n",
       "\n",
       "    .dataframe tbody tr th {\n",
       "        vertical-align: top;\n",
       "    }\n",
       "\n",
       "    .dataframe thead th {\n",
       "        text-align: right;\n",
       "    }\n",
       "</style>\n",
       "<table border=\"1\" class=\"dataframe\">\n",
       "  <thead>\n",
       "    <tr style=\"text-align: right;\">\n",
       "      <th></th>\n",
       "      <th>feature1</th>\n",
       "      <th>feature2</th>\n",
       "      <th>feature3</th>\n",
       "      <th>feature4</th>\n",
       "      <th>feature5</th>\n",
       "      <th>feature6</th>\n",
       "      <th>feature7</th>\n",
       "      <th>feature8</th>\n",
       "      <th>target</th>\n",
       "    </tr>\n",
       "  </thead>\n",
       "  <tbody>\n",
       "    <tr>\n",
       "      <th>0</th>\n",
       "      <td>-0.458258</td>\n",
       "      <td>-0.579012</td>\n",
       "      <td>2.886009</td>\n",
       "      <td>-0.075516</td>\n",
       "      <td>1.674060</td>\n",
       "      <td>-2.431912</td>\n",
       "      <td>0.534850</td>\n",
       "      <td>-0.846473</td>\n",
       "      <td>2</td>\n",
       "    </tr>\n",
       "    <tr>\n",
       "      <th>1</th>\n",
       "      <td>1.626615</td>\n",
       "      <td>-0.028332</td>\n",
       "      <td>-1.443184</td>\n",
       "      <td>-1.007447</td>\n",
       "      <td>-0.989093</td>\n",
       "      <td>1.202627</td>\n",
       "      <td>-0.038211</td>\n",
       "      <td>-1.298616</td>\n",
       "      <td>0</td>\n",
       "    </tr>\n",
       "    <tr>\n",
       "      <th>2</th>\n",
       "      <td>1.721356</td>\n",
       "      <td>-0.137676</td>\n",
       "      <td>-1.322593</td>\n",
       "      <td>-1.333187</td>\n",
       "      <td>-0.723713</td>\n",
       "      <td>0.843285</td>\n",
       "      <td>-0.588495</td>\n",
       "      <td>0.066682</td>\n",
       "      <td>0</td>\n",
       "    </tr>\n",
       "    <tr>\n",
       "      <th>3</th>\n",
       "      <td>-0.715103</td>\n",
       "      <td>3.265915</td>\n",
       "      <td>-0.791030</td>\n",
       "      <td>-2.967881</td>\n",
       "      <td>2.497628</td>\n",
       "      <td>-0.277387</td>\n",
       "      <td>-0.551611</td>\n",
       "      <td>0.668354</td>\n",
       "      <td>2</td>\n",
       "    </tr>\n",
       "    <tr>\n",
       "      <th>4</th>\n",
       "      <td>2.944098</td>\n",
       "      <td>0.197871</td>\n",
       "      <td>-2.257025</td>\n",
       "      <td>1.032789</td>\n",
       "      <td>-4.104693</td>\n",
       "      <td>4.716115</td>\n",
       "      <td>-0.380813</td>\n",
       "      <td>-1.393825</td>\n",
       "      <td>0</td>\n",
       "    </tr>\n",
       "  </tbody>\n",
       "</table>\n",
       "</div>"
      ],
      "text/plain": [
       "   feature1  feature2  feature3  feature4  feature5  feature6  feature7  \\\n",
       "0 -0.458258 -0.579012  2.886009 -0.075516  1.674060 -2.431912  0.534850   \n",
       "1  1.626615 -0.028332 -1.443184 -1.007447 -0.989093  1.202627 -0.038211   \n",
       "2  1.721356 -0.137676 -1.322593 -1.333187 -0.723713  0.843285 -0.588495   \n",
       "3 -0.715103  3.265915 -0.791030 -2.967881  2.497628 -0.277387 -0.551611   \n",
       "4  2.944098  0.197871 -2.257025  1.032789 -4.104693  4.716115 -0.380813   \n",
       "\n",
       "   feature8  target  \n",
       "0 -0.846473       2  \n",
       "1 -1.298616       0  \n",
       "2  0.066682       0  \n",
       "3  0.668354       2  \n",
       "4 -1.393825       0  "
      ]
     },
     "execution_count": 2,
     "metadata": {},
     "output_type": "execute_result"
    }
   ],
   "source": [
    "aire = pd.read_csv('uoc_train.csv') \n",
    "\n",
    "aire.head(5)"
   ]
  },
  {
   "cell_type": "code",
   "execution_count": 3,
   "id": "ef0b2b02",
   "metadata": {},
   "outputs": [
    {
     "name": "stdout",
     "output_type": "stream",
     "text": [
      "- Missing values por columnas: \n",
      "feature1    0\n",
      "feature2    0\n",
      "feature3    0\n",
      "feature4    0\n",
      "feature5    0\n",
      "feature6    0\n",
      "feature7    0\n",
      "feature8    0\n",
      "target      0\n",
      "dtype: int64\n"
     ]
    }
   ],
   "source": [
    "print(\"- Missing values por columnas: \\n{}\".format(aire.isnull().sum()))"
   ]
  },
  {
   "cell_type": "code",
   "execution_count": 4,
   "id": "b867dbc0",
   "metadata": {},
   "outputs": [
    {
     "data": {
      "text/plain": [
       "feature1    False\n",
       "feature2    False\n",
       "feature3    False\n",
       "feature4    False\n",
       "feature5    False\n",
       "feature6    False\n",
       "feature7    False\n",
       "feature8    False\n",
       "target      False\n",
       "dtype: bool"
      ]
     },
     "execution_count": 4,
     "metadata": {},
     "output_type": "execute_result"
    }
   ],
   "source": [
    "aire.isna().any()"
   ]
  },
  {
   "cell_type": "markdown",
   "id": "22bb5229",
   "metadata": {},
   "source": [
    "### Variables categóricas:"
   ]
  },
  {
   "cell_type": "code",
   "execution_count": 5,
   "id": "0852c007",
   "metadata": {},
   "outputs": [
    {
     "name": "stdout",
     "output_type": "stream",
     "text": [
      "La frecuencia de cada clase del atributo respuesta (target) es la siguiente:\n",
      " 0    713\n",
      "1    705\n",
      "2    682\n",
      "Name: target, dtype: int64\n"
     ]
    },
    {
     "data": {
      "text/plain": [
       "<AxesSubplot:>"
      ]
     },
     "execution_count": 5,
     "metadata": {},
     "output_type": "execute_result"
    },
    {
     "data": {
      "image/png": "[encoded data removed]",
      "text/plain": [
       "<Figure size 432x288 with 1 Axes>"
      ]
     },
     "metadata": {
      "needs_background": "light"
     },
     "output_type": "display_data"
    }
   ],
   "source": [
    "print(\"La frecuencia de cada clase del atributo respuesta (target) es la siguiente:\\n\",\n",
    "      aire['target'].value_counts())\n",
    "\n",
    "aire['target'].value_counts().plot.bar(x='target', rot=0)"
   ]
  },
  {
   "cell_type": "markdown",
   "id": "c626cbc5",
   "metadata": {},
   "source": [
    "### Variables numéricas:"
   ]
  },
  {
   "cell_type": "code",
   "execution_count": 6,
   "id": "9dc20dbb",
   "metadata": {},
   "outputs": [
    {
     "data": {
      "text/html": [
       "<div>\n",
       "<style scoped>\n",
       "    .dataframe tbody tr th:only-of-type {\n",
       "        vertical-align: middle;\n",
       "    }\n",
       "\n",
       "    .dataframe tbody tr th {\n",
       "        vertical-align: top;\n",
       "    }\n",
       "\n",
       "    .dataframe thead th {\n",
       "        text-align: right;\n",
       "    }\n",
       "</style>\n",
       "<table border=\"1\" class=\"dataframe\">\n",
       "  <thead>\n",
       "    <tr style=\"text-align: right;\">\n",
       "      <th></th>\n",
       "      <th>feature1</th>\n",
       "      <th>feature2</th>\n",
       "      <th>feature3</th>\n",
       "      <th>feature4</th>\n",
       "      <th>feature5</th>\n",
       "      <th>feature6</th>\n",
       "      <th>feature7</th>\n",
       "      <th>feature8</th>\n",
       "      <th>target</th>\n",
       "    </tr>\n",
       "  </thead>\n",
       "  <tbody>\n",
       "    <tr>\n",
       "      <th>count</th>\n",
       "      <td>2100.000000</td>\n",
       "      <td>2100.000000</td>\n",
       "      <td>2100.000000</td>\n",
       "      <td>2100.000000</td>\n",
       "      <td>2100.000000</td>\n",
       "      <td>2100.000000</td>\n",
       "      <td>2100.000000</td>\n",
       "      <td>2100.000000</td>\n",
       "      <td>2100.000000</td>\n",
       "    </tr>\n",
       "    <tr>\n",
       "      <th>mean</th>\n",
       "      <td>-0.318846</td>\n",
       "      <td>0.005348</td>\n",
       "      <td>-0.327567</td>\n",
       "      <td>0.024042</td>\n",
       "      <td>0.085851</td>\n",
       "      <td>-0.065000</td>\n",
       "      <td>-0.025603</td>\n",
       "      <td>-0.004437</td>\n",
       "      <td>0.985238</td>\n",
       "    </tr>\n",
       "    <tr>\n",
       "      <th>std</th>\n",
       "      <td>1.575061</td>\n",
       "      <td>1.605428</td>\n",
       "      <td>1.479745</td>\n",
       "      <td>1.548154</td>\n",
       "      <td>1.788543</td>\n",
       "      <td>2.124337</td>\n",
       "      <td>1.015619</td>\n",
       "      <td>1.003342</td>\n",
       "      <td>0.815098</td>\n",
       "    </tr>\n",
       "    <tr>\n",
       "      <th>min</th>\n",
       "      <td>-5.031501</td>\n",
       "      <td>-6.004578</td>\n",
       "      <td>-5.470794</td>\n",
       "      <td>-5.296172</td>\n",
       "      <td>-5.719499</td>\n",
       "      <td>-4.910575</td>\n",
       "      <td>-3.850552</td>\n",
       "      <td>-3.541608</td>\n",
       "      <td>0.000000</td>\n",
       "    </tr>\n",
       "    <tr>\n",
       "      <th>25%</th>\n",
       "      <td>-1.406249</td>\n",
       "      <td>-1.119150</td>\n",
       "      <td>-1.368208</td>\n",
       "      <td>-1.083716</td>\n",
       "      <td>-1.136441</td>\n",
       "      <td>-1.613267</td>\n",
       "      <td>-0.701442</td>\n",
       "      <td>-0.659096</td>\n",
       "      <td>0.000000</td>\n",
       "    </tr>\n",
       "    <tr>\n",
       "      <th>50%</th>\n",
       "      <td>-0.431219</td>\n",
       "      <td>-0.162577</td>\n",
       "      <td>-0.532158</td>\n",
       "      <td>0.152545</td>\n",
       "      <td>0.102788</td>\n",
       "      <td>-0.431328</td>\n",
       "      <td>-0.007598</td>\n",
       "      <td>-0.019797</td>\n",
       "      <td>1.000000</td>\n",
       "    </tr>\n",
       "    <tr>\n",
       "      <th>75%</th>\n",
       "      <td>0.773896</td>\n",
       "      <td>1.127450</td>\n",
       "      <td>0.573801</td>\n",
       "      <td>1.173172</td>\n",
       "      <td>1.507492</td>\n",
       "      <td>1.162813</td>\n",
       "      <td>0.665932</td>\n",
       "      <td>0.667530</td>\n",
       "      <td>2.000000</td>\n",
       "    </tr>\n",
       "    <tr>\n",
       "      <th>max</th>\n",
       "      <td>5.388387</td>\n",
       "      <td>7.663112</td>\n",
       "      <td>4.869581</td>\n",
       "      <td>4.318758</td>\n",
       "      <td>6.033273</td>\n",
       "      <td>7.053420</td>\n",
       "      <td>4.400697</td>\n",
       "      <td>3.579874</td>\n",
       "      <td>2.000000</td>\n",
       "    </tr>\n",
       "  </tbody>\n",
       "</table>\n",
       "</div>"
      ],
      "text/plain": [
       "          feature1     feature2     feature3     feature4     feature5  \\\n",
       "count  2100.000000  2100.000000  2100.000000  2100.000000  2100.000000   \n",
       "mean     -0.318846     0.005348    -0.327567     0.024042     0.085851   \n",
       "std       1.575061     1.605428     1.479745     1.548154     1.788543   \n",
       "min      -5.031501    -6.004578    -5.470794    -5.296172    -5.719499   \n",
       "25%      -1.406249    -1.119150    -1.368208    -1.083716    -1.136441   \n",
       "50%      -0.431219    -0.162577    -0.532158     0.152545     0.102788   \n",
       "75%       0.773896     1.127450     0.573801     1.173172     1.507492   \n",
       "max       5.388387     7.663112     4.869581     4.318758     6.033273   \n",
       "\n",
       "          feature6     feature7     feature8       target  \n",
       "count  2100.000000  2100.000000  2100.000000  2100.000000  \n",
       "mean     -0.065000    -0.025603    -0.004437     0.985238  \n",
       "std       2.124337     1.015619     1.003342     0.815098  \n",
       "min      -4.910575    -3.850552    -3.541608     0.000000  \n",
       "25%      -1.613267    -0.701442    -0.659096     0.000000  \n",
       "50%      -0.431328    -0.007598    -0.019797     1.000000  \n",
       "75%       1.162813     0.665932     0.667530     2.000000  \n",
       "max       7.053420     4.400697     3.579874     2.000000  "
      ]
     },
     "execution_count": 6,
     "metadata": {},
     "output_type": "execute_result"
    }
   ],
   "source": [
    "aire.describe()"
   ]
  },
  {
   "cell_type": "code",
   "execution_count": 7,
   "id": "3fbfa1b0",
   "metadata": {},
   "outputs": [
    {
     "data": {
      "text/plain": [
       "array([[<AxesSubplot:title={'center':'feature1'}>,\n",
       "        <AxesSubplot:title={'center':'feature2'}>,\n",
       "        <AxesSubplot:title={'center':'feature3'}>],\n",
       "       [<AxesSubplot:title={'center':'feature4'}>,\n",
       "        <AxesSubplot:title={'center':'feature5'}>,\n",
       "        <AxesSubplot:title={'center':'feature6'}>],\n",
       "       [<AxesSubplot:title={'center':'feature7'}>,\n",
       "        <AxesSubplot:title={'center':'feature8'}>,\n",
       "        <AxesSubplot:title={'center':'target'}>]], dtype=object)"
      ]
     },
     "execution_count": 7,
     "metadata": {},
     "output_type": "execute_result"
    },
    {
     "data": {
      "image/png": "[encoded data removed]",
      "text/plain": [
       "<Figure size 432x288 with 9 Axes>"
      ]
     },
     "metadata": {
      "needs_background": "light"
     },
     "output_type": "display_data"
    }
   ],
   "source": [
    "aire.hist(bins=20)"
   ]
  },
  {
   "cell_type": "code",
   "execution_count": 8,
   "id": "28a00f75",
   "metadata": {},
   "outputs": [
    {
     "data": {
      "text/html": [
       "<div>\n",
       "<style scoped>\n",
       "    .dataframe tbody tr th:only-of-type {\n",
       "        vertical-align: middle;\n",
       "    }\n",
       "\n",
       "    .dataframe tbody tr th {\n",
       "        vertical-align: top;\n",
       "    }\n",
       "\n",
       "    .dataframe thead th {\n",
       "        text-align: right;\n",
       "    }\n",
       "</style>\n",
       "<table border=\"1\" class=\"dataframe\">\n",
       "  <thead>\n",
       "    <tr style=\"text-align: right;\">\n",
       "      <th></th>\n",
       "      <th>feature1</th>\n",
       "      <th>feature2</th>\n",
       "      <th>feature3</th>\n",
       "      <th>feature4</th>\n",
       "      <th>feature5</th>\n",
       "      <th>feature6</th>\n",
       "      <th>feature7</th>\n",
       "      <th>feature8</th>\n",
       "    </tr>\n",
       "  </thead>\n",
       "  <tbody>\n",
       "    <tr>\n",
       "      <th>feature1</th>\n",
       "      <td>1.000000</td>\n",
       "      <td>0.133659</td>\n",
       "      <td>-0.370671</td>\n",
       "      <td>-0.208025</td>\n",
       "      <td>-0.659398</td>\n",
       "      <td>0.696823</td>\n",
       "      <td>0.014668</td>\n",
       "      <td>0.040744</td>\n",
       "    </tr>\n",
       "    <tr>\n",
       "      <th>feature2</th>\n",
       "      <td>0.133659</td>\n",
       "      <td>1.000000</td>\n",
       "      <td>0.039532</td>\n",
       "      <td>-0.395318</td>\n",
       "      <td>0.145428</td>\n",
       "      <td>0.397361</td>\n",
       "      <td>0.007027</td>\n",
       "      <td>0.035793</td>\n",
       "    </tr>\n",
       "    <tr>\n",
       "      <th>feature3</th>\n",
       "      <td>-0.370671</td>\n",
       "      <td>0.039532</td>\n",
       "      <td>1.000000</td>\n",
       "      <td>0.127242</td>\n",
       "      <td>0.500785</td>\n",
       "      <td>-0.493455</td>\n",
       "      <td>0.005047</td>\n",
       "      <td>-0.045066</td>\n",
       "    </tr>\n",
       "    <tr>\n",
       "      <th>feature4</th>\n",
       "      <td>-0.208025</td>\n",
       "      <td>-0.395318</td>\n",
       "      <td>0.127242</td>\n",
       "      <td>1.000000</td>\n",
       "      <td>-0.527969</td>\n",
       "      <td>0.240207</td>\n",
       "      <td>0.014668</td>\n",
       "      <td>-0.019431</td>\n",
       "    </tr>\n",
       "    <tr>\n",
       "      <th>feature5</th>\n",
       "      <td>-0.659398</td>\n",
       "      <td>0.145428</td>\n",
       "      <td>0.500785</td>\n",
       "      <td>-0.527969</td>\n",
       "      <td>1.000000</td>\n",
       "      <td>-0.848052</td>\n",
       "      <td>-0.019511</td>\n",
       "      <td>-0.031318</td>\n",
       "    </tr>\n",
       "    <tr>\n",
       "      <th>feature6</th>\n",
       "      <td>0.696823</td>\n",
       "      <td>0.397361</td>\n",
       "      <td>-0.493455</td>\n",
       "      <td>0.240207</td>\n",
       "      <td>-0.848052</td>\n",
       "      <td>1.000000</td>\n",
       "      <td>0.020763</td>\n",
       "      <td>0.050178</td>\n",
       "    </tr>\n",
       "    <tr>\n",
       "      <th>feature7</th>\n",
       "      <td>0.014668</td>\n",
       "      <td>0.007027</td>\n",
       "      <td>0.005047</td>\n",
       "      <td>0.014668</td>\n",
       "      <td>-0.019511</td>\n",
       "      <td>0.020763</td>\n",
       "      <td>1.000000</td>\n",
       "      <td>-0.005921</td>\n",
       "    </tr>\n",
       "    <tr>\n",
       "      <th>feature8</th>\n",
       "      <td>0.040744</td>\n",
       "      <td>0.035793</td>\n",
       "      <td>-0.045066</td>\n",
       "      <td>-0.019431</td>\n",
       "      <td>-0.031318</td>\n",
       "      <td>0.050178</td>\n",
       "      <td>-0.005921</td>\n",
       "      <td>1.000000</td>\n",
       "    </tr>\n",
       "  </tbody>\n",
       "</table>\n",
       "</div>"
      ],
      "text/plain": [
       "          feature1  feature2  feature3  feature4  feature5  feature6  \\\n",
       "feature1  1.000000  0.133659 -0.370671 -0.208025 -0.659398  0.696823   \n",
       "feature2  0.133659  1.000000  0.039532 -0.395318  0.145428  0.397361   \n",
       "feature3 -0.370671  0.039532  1.000000  0.127242  0.500785 -0.493455   \n",
       "feature4 -0.208025 -0.395318  0.127242  1.000000 -0.527969  0.240207   \n",
       "feature5 -0.659398  0.145428  0.500785 -0.527969  1.000000 -0.848052   \n",
       "feature6  0.696823  0.397361 -0.493455  0.240207 -0.848052  1.000000   \n",
       "feature7  0.014668  0.007027  0.005047  0.014668 -0.019511  0.020763   \n",
       "feature8  0.040744  0.035793 -0.045066 -0.019431 -0.031318  0.050178   \n",
       "\n",
       "          feature7  feature8  \n",
       "feature1  0.014668  0.040744  \n",
       "feature2  0.007027  0.035793  \n",
       "feature3  0.005047 -0.045066  \n",
       "feature4  0.014668 -0.019431  \n",
       "feature5 -0.019511 -0.031318  \n",
       "feature6  0.020763  0.050178  \n",
       "feature7  1.000000 -0.005921  \n",
       "feature8 -0.005921  1.000000  "
      ]
     },
     "execution_count": 8,
     "metadata": {},
     "output_type": "execute_result"
    }
   ],
   "source": [
    "aire.drop(columns = ['target']).corr()"
   ]
  },
  {
   "cell_type": "markdown",
   "id": "9d532dd8",
   "metadata": {},
   "source": [
    "## Entrenamiento y test de un modelo de clasificación supervisado Random Forest"
   ]
  },
  {
   "cell_type": "code",
   "execution_count": 9,
   "id": "c50b6b49",
   "metadata": {},
   "outputs": [],
   "source": [
    "X_train, X_test, y_train, y_test = train_test_split(\n",
    "    aire.drop(columns = ['target']), aire['target'], test_size=0.2, random_state=24)"
   ]
  },
  {
   "cell_type": "code",
   "execution_count": 10,
   "id": "48ffcc0f",
   "metadata": {},
   "outputs": [
    {
     "name": "stdout",
     "output_type": "stream",
     "text": [
      "\n",
      "Los mejores parámetros son: {'max_depth': 12, 'n_estimators': 51}\n"
     ]
    }
   ],
   "source": [
    "#param_grid = {\"n_estimators\": [25, 40, 50, 60, 75, 100, 150, 200], \"max_depth\": range(5, 15)}\n",
    "\n",
    "param_grid = {\"n_estimators\": range(10, 100), \"max_depth\": range(5, 15)}\n",
    "\n",
    "grid_model = GridSearchCV(RandomForestClassifier(random_state=20), param_grid, cv=4, n_jobs= -1 )\n",
    "grid_model.fit(X_train, y_train)\n",
    "\n",
    "print(\"\\nLos mejores parámetros son: {}\".format(grid_model.best_params_))"
   ]
  },
  {
   "cell_type": "code",
   "execution_count": 11,
   "id": "84da0ed1",
   "metadata": {},
   "outputs": [],
   "source": [
    "best_n_estimators = grid_model.best_params_['n_estimators']\n",
    "best_max_depth = grid_model.best_params_['max_depth']"
   ]
  },
  {
   "cell_type": "code",
   "execution_count": 12,
   "id": "8bfa6c0a",
   "metadata": {},
   "outputs": [
    {
     "data": {
      "text/plain": [
       "RandomForestClassifier(max_depth=12, n_estimators=51, random_state=20)"
      ]
     },
     "execution_count": 12,
     "metadata": {},
     "output_type": "execute_result"
    }
   ],
   "source": [
    "rfc = RandomForestClassifier(n_estimators=best_n_estimators, max_depth=best_max_depth, random_state=20)\n",
    "rfc.fit(X_train, y_train)"
   ]
  },
  {
   "cell_type": "code",
   "execution_count": 18,
   "id": "4deafadd",
   "metadata": {},
   "outputs": [
    {
     "name": "stdout",
     "output_type": "stream",
     "text": [
      "La precisión de modelo es: 0.907\n"
     ]
    },
    {
     "data": {
      "text/plain": [
       "Text(0.5, 1.05, 'Matriz de confusión')"
      ]
     },
     "execution_count": 18,
     "metadata": {},
     "output_type": "execute_result"
    },
    {
     "data": {
      "image/png": "[encoded data removed]",
      "text/plain": [
       "<Figure size 432x288 with 2 Axes>"
      ]
     },
     "metadata": {
      "needs_background": "light"
     },
     "output_type": "display_data"
    }
   ],
   "source": [
    "pred = rfc.predict(X_test)\n",
    "print(\"La precisión de modelo es: {:.3f}\".format(accuracy_score(y_test, pred))) \n",
    "\n",
    "matriz = confusion_matrix(y_test, pred)\n",
    "\n",
    "sns.heatmap(matriz, annot=True, fmt=\"d\", cmap='Blues', square=True)\n",
    "plt.xlabel(\"predicción\")\n",
    "plt.ylabel(\"real\")\n",
    "plt.title('Matriz de confusión', y=1.05, size=18)"
   ]
  },
  {
   "cell_type": "markdown",
   "id": "cac889dc",
   "metadata": {},
   "source": [
    "## Precidicción de nuevos casos"
   ]
  },
  {
   "cell_type": "code",
   "execution_count": 14,
   "id": "86642964",
   "metadata": {},
   "outputs": [],
   "source": [
    "aire_X_test = pd.read_csv('uoc_X_test.csv') "
   ]
  },
  {
   "cell_type": "code",
   "execution_count": 15,
   "id": "48c02e12",
   "metadata": {},
   "outputs": [],
   "source": [
    "predic = rfc.predict(aire_X_test)"
   ]
  },
  {
   "cell_type": "code",
   "execution_count": 16,
   "id": "e52b0ae3",
   "metadata": {},
   "outputs": [
    {
     "data": {
      "text/html": [
       "<div>\n",
       "<style scoped>\n",
       "    .dataframe tbody tr th:only-of-type {\n",
       "        vertical-align: middle;\n",
       "    }\n",
       "\n",
       "    .dataframe tbody tr th {\n",
       "        vertical-align: top;\n",
       "    }\n",
       "\n",
       "    .dataframe thead th {\n",
       "        text-align: right;\n",
       "    }\n",
       "</style>\n",
       "<table border=\"1\" class=\"dataframe\">\n",
       "  <thead>\n",
       "    <tr style=\"text-align: right;\">\n",
       "      <th></th>\n",
       "      <th>final_status</th>\n",
       "    </tr>\n",
       "  </thead>\n",
       "  <tbody>\n",
       "    <tr>\n",
       "      <th>0</th>\n",
       "      <td>0</td>\n",
       "    </tr>\n",
       "    <tr>\n",
       "      <th>1</th>\n",
       "      <td>2</td>\n",
       "    </tr>\n",
       "    <tr>\n",
       "      <th>2</th>\n",
       "      <td>1</td>\n",
       "    </tr>\n",
       "    <tr>\n",
       "      <th>3</th>\n",
       "      <td>0</td>\n",
       "    </tr>\n",
       "    <tr>\n",
       "      <th>4</th>\n",
       "      <td>2</td>\n",
       "    </tr>\n",
       "    <tr>\n",
       "      <th>...</th>\n",
       "      <td>...</td>\n",
       "    </tr>\n",
       "    <tr>\n",
       "      <th>895</th>\n",
       "      <td>1</td>\n",
       "    </tr>\n",
       "    <tr>\n",
       "      <th>896</th>\n",
       "      <td>2</td>\n",
       "    </tr>\n",
       "    <tr>\n",
       "      <th>897</th>\n",
       "      <td>2</td>\n",
       "    </tr>\n",
       "    <tr>\n",
       "      <th>898</th>\n",
       "      <td>2</td>\n",
       "    </tr>\n",
       "    <tr>\n",
       "      <th>899</th>\n",
       "      <td>2</td>\n",
       "    </tr>\n",
       "  </tbody>\n",
       "</table>\n",
       "<p>900 rows × 1 columns</p>\n",
       "</div>"
      ],
      "text/plain": [
       "     final_status\n",
       "0               0\n",
       "1               2\n",
       "2               1\n",
       "3               0\n",
       "4               2\n",
       "..            ...\n",
       "895             1\n",
       "896             2\n",
       "897             2\n",
       "898             2\n",
       "899             2\n",
       "\n",
       "[900 rows x 1 columns]"
      ]
     },
     "execution_count": 16,
     "metadata": {},
     "output_type": "execute_result"
    }
   ],
   "source": [
    "predicciones = pd.DataFrame(predic, columns=['final_status'])\n",
    "\n",
    "predicciones"
   ]
  },
  {
   "cell_type": "code",
   "execution_count": 19,
   "id": "fca52989",
   "metadata": {},
   "outputs": [],
   "source": [
    "predicciones.to_csv('predicciones.csv')"
   ]
  },
  {
   "cell_type": "code",
   "execution_count": null,
   "id": "8c408ff3",
   "metadata": {},
   "outputs": [],
   "source": []
  }
 ],
 "metadata": {
  "kernelspec": {
   "display_name": "Python 3",
   "language": "python",
   "name": "python3"
  },
  "language_info": {
   "codemirror_mode": {
    "name": "ipython",
    "version": 3
   },
   "file_extension": ".py",
   "mimetype": "text/x-python",
   "name": "python",
   "nbconvert_exporter": "python",
   "pygments_lexer": "ipython3",
   "version": "3.8.8"
  }
 },
 "nbformat": 4,
 "nbformat_minor": 5
}
